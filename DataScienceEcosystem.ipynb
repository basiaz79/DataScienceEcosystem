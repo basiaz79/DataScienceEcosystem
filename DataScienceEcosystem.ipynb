{
 "cells": [
  {
   "cell_type": "markdown",
   "id": "3c33998d-973f-482c-868c-1659801b1698",
   "metadata": {},
   "source": [
    "# Data Science Tools and Ecosystem"
   ]
  },
  {
   "cell_type": "markdown",
   "id": "7175e870-de7d-4726-9704-720591fd7d32",
   "metadata": {},
   "source": [
    "# In this Notebook, Data Science Tools and Ecosystem are summarized."
   ]
  },
  {
   "cell_type": "markdown",
   "id": "8fa694a4-c2b2-4b9c-bab5-14ff9966b279",
   "metadata": {},
   "source": [
    "**Objectives:**\n",
    "- List popular languages for Data Science\n",
    "- Describe common Data Science libraries\n",
    "- Demonstrate arithmetic expression in Python"
   ]
  },
  {
   "cell_type": "markdown",
   "id": "d3bb1218-c124-46bb-809c-b80a061f6cda",
   "metadata": {},
   "source": [
    "# Some of the popular languages that Data Scientists use are:\n",
    "      1. Python      \n",
    "      2. R\n",
    "      3. SQL"
   ]
  },
  {
   "cell_type": "markdown",
   "id": "a78a301c-0d5e-4a35-b356-4a80d8f8a786",
   "metadata": {},
   "source": [
    "# Some of the commonly used libraries used by Data Scientists include:\n",
    "1. Pandas\n",
    "2. Numpy\n",
    "3. Matplotlib "
   ]
  },
  {
   "cell_type": "markdown",
   "id": "e072887f-7c38-4b16-8e4c-98ef6397a259",
   "metadata": {},
   "source": [
    "| Data Science Tools |\n",
    "|--------------------|\n",
    "| Jupyter Notebook   |\n",
    "| RStudio            | \n",
    "| Apache Zeppelin    |\n"
   ]
  },
  {
   "cell_type": "markdown",
   "id": "5e5335c2-f915-427f-8d98-5fcea60998ed",
   "metadata": {},
   "source": [
    "### Below are a few examples of evaluating arithmetic expressions in Python."
   ]
  },
  {
   "cell_type": "code",
   "execution_count": 68,
   "id": "d983106f-acee-4937-a8e9-9adfa89e0236",
   "metadata": {},
   "outputs": [
    {
     "data": {
      "text/plain": [
       "17"
      ]
     },
     "execution_count": 68,
     "metadata": {},
     "output_type": "execute_result"
    }
   ],
   "source": [
    "# This is a simple arithmetic to multiply then add integers.\n",
    "(3*4)+5"
   ]
  },
  {
   "cell_type": "code",
   "execution_count": 70,
   "id": "cf8050b2-b233-4a7c-a458-ae772b6a368a",
   "metadata": {},
   "outputs": [
    {
     "data": {
      "text/plain": [
       "3.3333333333333335"
      ]
     },
     "execution_count": 70,
     "metadata": {},
     "output_type": "execute_result"
    }
   ],
   "source": [
    "# This will convert 200 minutes to hours by dividing by 60\n",
    "200 / 60"
   ]
  },
  {
   "cell_type": "markdown",
   "id": "10881484-a9b6-4dc9-a485-0548e1181f01",
   "metadata": {},
   "source": [
    "## Author\n",
    "Barbara Zasowski"
   ]
  },
  {
   "cell_type": "code",
   "execution_count": null,
   "id": "7d11825e-c746-440e-8a5d-03ea0eb62853",
   "metadata": {},
   "outputs": [],
   "source": []
  }
 ],
 "metadata": {
  "kernelspec": {
   "display_name": "Python 3 (ipykernel)",
   "language": "python",
   "name": "python3"
  },
  "language_info": {
   "codemirror_mode": {
    "name": "ipython",
    "version": 3
   },
   "file_extension": ".py",
   "mimetype": "text/x-python",
   "name": "python",
   "nbconvert_exporter": "python",
   "pygments_lexer": "ipython3",
   "version": "3.12.4"
  }
 },
 "nbformat": 4,
 "nbformat_minor": 5
}
